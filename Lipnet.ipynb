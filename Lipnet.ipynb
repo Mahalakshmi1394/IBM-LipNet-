{
 "cells": [
  {
   "cell_type": "markdown",
   "id": "207f65ef-415c-4e3f-98fb-49479451aa94",
   "metadata": {},
   "source": [
    "***0. Install and Import Dependencies***"
   ]
  },
  {
   "cell_type": "code",
   "execution_count": null,
   "id": "dda884ae-c4f9-47d4-8900-862b67c6c2c2",
   "metadata": {},
   "outputs": [],
   "source": [
    "!pip list"
   ]
  },
  {
   "cell_type": "code",
   "execution_count": 2,
   "id": "0643d8ad-f140-46ba-95fb-e034e4675d1c",
   "metadata": {},
   "outputs": [
    {
     "name": "stdout",
     "output_type": "stream",
     "text": [
      "Requirement already satisfied: opencv-python in c:\\users\\sec\\appdata\\local\\programs\\python\\python312\\lib\\site-packages (4.10.0.84)\n",
      "Requirement already satisfied: matplotlib in c:\\users\\sec\\appdata\\local\\programs\\python\\python312\\lib\\site-packages (3.9.2)\n",
      "Requirement already satisfied: imageio in c:\\users\\sec\\appdata\\local\\programs\\python\\python312\\lib\\site-packages (2.36.0)\n",
      "Requirement already satisfied: gdown in c:\\users\\sec\\appdata\\local\\programs\\python\\python312\\lib\\site-packages (5.2.0)\n",
      "Requirement already satisfied: tensorflow in c:\\users\\sec\\appdata\\local\\programs\\python\\python312\\lib\\site-packages (2.17.0)\n",
      "Requirement already satisfied: numpy>=1.21.2 in c:\\users\\sec\\appdata\\local\\programs\\python\\python312\\lib\\site-packages (from opencv-python) (1.26.4)\n",
